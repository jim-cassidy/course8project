{
 "cells": [
  {
   "cell_type": "code",
   "execution_count": 236,
   "metadata": {},
   "outputs": [],
   "source": [
    "import pandas as pd\n",
    "import pylab as pl\n",
    "import numpy as np\n",
    "import scipy.optimize as opt\n",
    "from sklearn import preprocessing\n",
    "from sklearn.model_selection import train_test_split\n",
    "%matplotlib inline \n",
    "import matplotlib.pyplot as plt"
   ]
  },
  {
   "cell_type": "code",
   "execution_count": 237,
   "metadata": {},
   "outputs": [
    {
     "name": "stdout",
     "output_type": "stream",
     "text": [
      "Data downloaded and read into a dataframe!\n"
     ]
    },
    {
     "data": {
      "text/html": [
       "<div>\n",
       "<style scoped>\n",
       "    .dataframe tbody tr th:only-of-type {\n",
       "        vertical-align: middle;\n",
       "    }\n",
       "\n",
       "    .dataframe tbody tr th {\n",
       "        vertical-align: top;\n",
       "    }\n",
       "\n",
       "    .dataframe thead th {\n",
       "        text-align: right;\n",
       "    }\n",
       "</style>\n",
       "<table border=\"1\" class=\"dataframe\">\n",
       "  <thead>\n",
       "    <tr style=\"text-align: right;\">\n",
       "      <th></th>\n",
       "      <th>Unnamed: 0</th>\n",
       "      <th>Unnamed: 0.1</th>\n",
       "      <th>loan_status</th>\n",
       "      <th>Principal</th>\n",
       "      <th>terms</th>\n",
       "      <th>effective_date</th>\n",
       "      <th>due_date</th>\n",
       "      <th>age</th>\n",
       "      <th>education</th>\n",
       "      <th>Gender</th>\n",
       "    </tr>\n",
       "  </thead>\n",
       "  <tbody>\n",
       "    <tr>\n",
       "      <th>0</th>\n",
       "      <td>0</td>\n",
       "      <td>0</td>\n",
       "      <td>PAIDOFF</td>\n",
       "      <td>1000</td>\n",
       "      <td>30</td>\n",
       "      <td>9/8/2016</td>\n",
       "      <td>10/7/2016</td>\n",
       "      <td>45</td>\n",
       "      <td>High School or Below</td>\n",
       "      <td>male</td>\n",
       "    </tr>\n",
       "    <tr>\n",
       "      <th>1</th>\n",
       "      <td>2</td>\n",
       "      <td>2</td>\n",
       "      <td>PAIDOFF</td>\n",
       "      <td>1000</td>\n",
       "      <td>30</td>\n",
       "      <td>9/8/2016</td>\n",
       "      <td>10/7/2016</td>\n",
       "      <td>33</td>\n",
       "      <td>Bechalor</td>\n",
       "      <td>female</td>\n",
       "    </tr>\n",
       "    <tr>\n",
       "      <th>2</th>\n",
       "      <td>3</td>\n",
       "      <td>3</td>\n",
       "      <td>PAIDOFF</td>\n",
       "      <td>1000</td>\n",
       "      <td>15</td>\n",
       "      <td>9/8/2016</td>\n",
       "      <td>9/22/2016</td>\n",
       "      <td>27</td>\n",
       "      <td>college</td>\n",
       "      <td>male</td>\n",
       "    </tr>\n",
       "    <tr>\n",
       "      <th>3</th>\n",
       "      <td>4</td>\n",
       "      <td>4</td>\n",
       "      <td>PAIDOFF</td>\n",
       "      <td>1000</td>\n",
       "      <td>30</td>\n",
       "      <td>9/9/2016</td>\n",
       "      <td>10/8/2016</td>\n",
       "      <td>28</td>\n",
       "      <td>college</td>\n",
       "      <td>female</td>\n",
       "    </tr>\n",
       "    <tr>\n",
       "      <th>4</th>\n",
       "      <td>6</td>\n",
       "      <td>6</td>\n",
       "      <td>PAIDOFF</td>\n",
       "      <td>1000</td>\n",
       "      <td>30</td>\n",
       "      <td>9/9/2016</td>\n",
       "      <td>10/8/2016</td>\n",
       "      <td>29</td>\n",
       "      <td>college</td>\n",
       "      <td>male</td>\n",
       "    </tr>\n",
       "  </tbody>\n",
       "</table>\n",
       "</div>"
      ],
      "text/plain": [
       "   Unnamed: 0  Unnamed: 0.1 loan_status  Principal  terms effective_date  \\\n",
       "0           0             0     PAIDOFF       1000     30       9/8/2016   \n",
       "1           2             2     PAIDOFF       1000     30       9/8/2016   \n",
       "2           3             3     PAIDOFF       1000     15       9/8/2016   \n",
       "3           4             4     PAIDOFF       1000     30       9/9/2016   \n",
       "4           6             6     PAIDOFF       1000     30       9/9/2016   \n",
       "\n",
       "    due_date  age             education  Gender  \n",
       "0  10/7/2016   45  High School or Below    male  \n",
       "1  10/7/2016   33              Bechalor  female  \n",
       "2  9/22/2016   27               college    male  \n",
       "3  10/8/2016   28               college  female  \n",
       "4  10/8/2016   29               college    male  "
      ]
     },
     "execution_count": 237,
     "metadata": {},
     "output_type": "execute_result"
    }
   ],
   "source": [
    "\n",
    "cell_df = pd.read_csv('loan_train.csv',\n",
    "                      )\n",
    "\n",
    "print('Data downloaded and read into a dataframe!')\n",
    "\n",
    "\n",
    "\n",
    "\n",
    "cell_df.head()\n",
    " \n",
    "\n"
   ]
  },
  {
   "cell_type": "code",
   "execution_count": 238,
   "metadata": {},
   "outputs": [],
   "source": [
    "X = cell_df [['loan_status', 'education', 'Gender']].values\n",
    "\n",
    "\n",
    "\n",
    "\n",
    " \n"
   ]
  },
  {
   "cell_type": "code",
   "execution_count": 239,
   "metadata": {},
   "outputs": [
    {
     "data": {
      "text/plain": [
       "array([[1, 1, 1],\n",
       "       [1, 0, 0],\n",
       "       [1, 3, 1],\n",
       "       [1, 3, 0],\n",
       "       [1, 3, 1],\n",
       "       [1, 3, 1],\n",
       "       [1, 3, 1],\n",
       "       [1, 3, 1],\n",
       "       [1, 3, 1],\n",
       "       [1, 1, 1]], dtype=object)"
      ]
     },
     "execution_count": 239,
     "metadata": {},
     "output_type": "execute_result"
    }
   ],
   "source": [
    "from sklearn import preprocessing\n",
    " \n",
    "le_BP = preprocessing.LabelEncoder()\n",
    "le_BP.fit([ 'PAIDOFF', 'COLLECTION'])\n",
    "X[:,0] = le_BP.transform(X[:,0])  \n",
    "\n",
    "le_BP = preprocessing.LabelEncoder()\n",
    "le_BP.fit([ 'High School or Below', 'college' ,'Bechalor', 'Master or Above'])\n",
    "X[:,1] = le_BP.transform(X[:,1])\n",
    "\n",
    "le_BP = preprocessing.LabelEncoder()\n",
    "le_BP.fit([ 'male', 'female' ])\n",
    "X[:,2] = le_BP.transform(X[:,2])\n",
    "\n",
    "\n",
    " \n",
    "cell_df.dtypes\n",
    "\n",
    "\n",
    "\n",
    "\n",
    "X[0:10]"
   ]
  },
  {
   "cell_type": "code",
   "execution_count": 240,
   "metadata": {},
   "outputs": [
    {
     "data": {
      "text/html": [
       "<div>\n",
       "<style scoped>\n",
       "    .dataframe tbody tr th:only-of-type {\n",
       "        vertical-align: middle;\n",
       "    }\n",
       "\n",
       "    .dataframe tbody tr th {\n",
       "        vertical-align: top;\n",
       "    }\n",
       "\n",
       "    .dataframe thead th {\n",
       "        text-align: right;\n",
       "    }\n",
       "</style>\n",
       "<table border=\"1\" class=\"dataframe\">\n",
       "  <thead>\n",
       "    <tr style=\"text-align: right;\">\n",
       "      <th></th>\n",
       "      <th>Unnamed: 0</th>\n",
       "      <th>Unnamed: 0.1</th>\n",
       "      <th>loan_status</th>\n",
       "      <th>Principal</th>\n",
       "      <th>terms</th>\n",
       "      <th>effective_date</th>\n",
       "      <th>due_date</th>\n",
       "      <th>age</th>\n",
       "      <th>education</th>\n",
       "      <th>Gender</th>\n",
       "    </tr>\n",
       "  </thead>\n",
       "  <tbody>\n",
       "    <tr>\n",
       "      <th>0</th>\n",
       "      <td>0</td>\n",
       "      <td>0</td>\n",
       "      <td>PAIDOFF</td>\n",
       "      <td>1000</td>\n",
       "      <td>30</td>\n",
       "      <td>9/8/2016</td>\n",
       "      <td>10/7/2016</td>\n",
       "      <td>45</td>\n",
       "      <td>High School or Below</td>\n",
       "      <td>male</td>\n",
       "    </tr>\n",
       "    <tr>\n",
       "      <th>1</th>\n",
       "      <td>2</td>\n",
       "      <td>2</td>\n",
       "      <td>PAIDOFF</td>\n",
       "      <td>1000</td>\n",
       "      <td>30</td>\n",
       "      <td>9/8/2016</td>\n",
       "      <td>10/7/2016</td>\n",
       "      <td>33</td>\n",
       "      <td>Bechalor</td>\n",
       "      <td>female</td>\n",
       "    </tr>\n",
       "    <tr>\n",
       "      <th>2</th>\n",
       "      <td>3</td>\n",
       "      <td>3</td>\n",
       "      <td>PAIDOFF</td>\n",
       "      <td>1000</td>\n",
       "      <td>15</td>\n",
       "      <td>9/8/2016</td>\n",
       "      <td>9/22/2016</td>\n",
       "      <td>27</td>\n",
       "      <td>college</td>\n",
       "      <td>male</td>\n",
       "    </tr>\n",
       "    <tr>\n",
       "      <th>3</th>\n",
       "      <td>4</td>\n",
       "      <td>4</td>\n",
       "      <td>PAIDOFF</td>\n",
       "      <td>1000</td>\n",
       "      <td>30</td>\n",
       "      <td>9/9/2016</td>\n",
       "      <td>10/8/2016</td>\n",
       "      <td>28</td>\n",
       "      <td>college</td>\n",
       "      <td>female</td>\n",
       "    </tr>\n",
       "    <tr>\n",
       "      <th>4</th>\n",
       "      <td>6</td>\n",
       "      <td>6</td>\n",
       "      <td>PAIDOFF</td>\n",
       "      <td>1000</td>\n",
       "      <td>30</td>\n",
       "      <td>9/9/2016</td>\n",
       "      <td>10/8/2016</td>\n",
       "      <td>29</td>\n",
       "      <td>college</td>\n",
       "      <td>male</td>\n",
       "    </tr>\n",
       "  </tbody>\n",
       "</table>\n",
       "</div>"
      ],
      "text/plain": [
       "   Unnamed: 0  Unnamed: 0.1 loan_status  Principal  terms effective_date  \\\n",
       "0           0             0     PAIDOFF       1000     30       9/8/2016   \n",
       "1           2             2     PAIDOFF       1000     30       9/8/2016   \n",
       "2           3             3     PAIDOFF       1000     15       9/8/2016   \n",
       "3           4             4     PAIDOFF       1000     30       9/9/2016   \n",
       "4           6             6     PAIDOFF       1000     30       9/9/2016   \n",
       "\n",
       "    due_date  age             education  Gender  \n",
       "0  10/7/2016   45  High School or Below    male  \n",
       "1  10/7/2016   33              Bechalor  female  \n",
       "2  9/22/2016   27               college    male  \n",
       "3  10/8/2016   28               college  female  \n",
       "4  10/8/2016   29               college    male  "
      ]
     },
     "execution_count": 240,
     "metadata": {},
     "output_type": "execute_result"
    }
   ],
   "source": [
    "cell_df.head()"
   ]
  },
  {
   "cell_type": "code",
   "execution_count": 241,
   "metadata": {},
   "outputs": [
    {
     "name": "stderr",
     "output_type": "stream",
     "text": [
      "/home/jupyterlab/conda/lib/python3.6/site-packages/ipykernel_launcher.py:6: SettingWithCopyWarning: \n",
      "A value is trying to be set on a copy of a slice from a DataFrame\n",
      "\n",
      "See the caveats in the documentation: http://pandas.pydata.org/pandas-docs/stable/indexing.html#indexing-view-versus-copy\n",
      "  \n",
      "/home/jupyterlab/conda/lib/python3.6/site-packages/ipykernel_launcher.py:7: SettingWithCopyWarning: \n",
      "A value is trying to be set on a copy of a slice from a DataFrame\n",
      "\n",
      "See the caveats in the documentation: http://pandas.pydata.org/pandas-docs/stable/indexing.html#indexing-view-versus-copy\n",
      "  import sys\n",
      "/home/jupyterlab/conda/lib/python3.6/site-packages/ipykernel_launcher.py:10: SettingWithCopyWarning: \n",
      "A value is trying to be set on a copy of a slice from a DataFrame\n",
      "\n",
      "See the caveats in the documentation: http://pandas.pydata.org/pandas-docs/stable/indexing.html#indexing-view-versus-copy\n",
      "  # Remove the CWD from sys.path while we load stuff.\n",
      "/home/jupyterlab/conda/lib/python3.6/site-packages/ipykernel_launcher.py:11: SettingWithCopyWarning: \n",
      "A value is trying to be set on a copy of a slice from a DataFrame\n",
      "\n",
      "See the caveats in the documentation: http://pandas.pydata.org/pandas-docs/stable/indexing.html#indexing-view-versus-copy\n",
      "  # This is added back by InteractiveShellApp.init_path()\n",
      "/home/jupyterlab/conda/lib/python3.6/site-packages/ipykernel_launcher.py:14: SettingWithCopyWarning: \n",
      "A value is trying to be set on a copy of a slice from a DataFrame\n",
      "\n",
      "See the caveats in the documentation: http://pandas.pydata.org/pandas-docs/stable/indexing.html#indexing-view-versus-copy\n",
      "  \n",
      "/home/jupyterlab/conda/lib/python3.6/site-packages/ipykernel_launcher.py:15: SettingWithCopyWarning: \n",
      "A value is trying to be set on a copy of a slice from a DataFrame\n",
      "\n",
      "See the caveats in the documentation: http://pandas.pydata.org/pandas-docs/stable/indexing.html#indexing-view-versus-copy\n",
      "  from ipykernel import kernelapp as app\n"
     ]
    },
    {
     "name": "stdout",
     "output_type": "stream",
     "text": [
      "     Unnamed: 0  Unnamed: 0.1  loan_status  Principal  terms effective_date  \\\n",
      "0             0             0            1       1000      2       9/8/2016   \n",
      "1             2             2            1       1000      2       9/8/2016   \n",
      "2             3             3            1       1000      1       9/8/2016   \n",
      "3             4             4            1       1000      2       9/9/2016   \n",
      "4             6             6            1       1000      2       9/9/2016   \n",
      "5             7             7            1       1000      2       9/9/2016   \n",
      "6             8             8            1       1000      2       9/9/2016   \n",
      "7             9             9            1        800      1      9/10/2016   \n",
      "8            10            10            1        300      0      9/10/2016   \n",
      "9            11            11            1       1000      1      9/10/2016   \n",
      "10           12            12            1       1000      2      9/10/2016   \n",
      "11           13            13            1        900      0      9/10/2016   \n",
      "12           14            14            1       1000      0      9/10/2016   \n",
      "13           15            15            1        800      1      9/10/2016   \n",
      "14           16            16            1       1000      2      9/10/2016   \n",
      "15           17            17            1       1000      1      9/10/2016   \n",
      "16           18            18            1       1000      2      9/10/2016   \n",
      "17           19            19            1        800      2      9/10/2016   \n",
      "18           20            20            1       1000      2      9/10/2016   \n",
      "19           22            22            1       1000      2      9/10/2016   \n",
      "20           23            23            1       1000      1      9/10/2016   \n",
      "21           25            25            1       1000      2      9/10/2016   \n",
      "22           26            26            1        800      1      9/10/2016   \n",
      "23           27            27            1       1000      1      9/10/2016   \n",
      "24           28            28            1       1000      2      9/11/2016   \n",
      "25           29            29            1       1000      2      9/11/2016   \n",
      "26           30            30            1        800      1      9/11/2016   \n",
      "27           31            31            1       1000      2      9/11/2016   \n",
      "28           32            32            1       1000      2      9/11/2016   \n",
      "29           33            33            1       1000      2      9/11/2016   \n",
      "..          ...           ...          ...        ...    ...            ...   \n",
      "316         367           367            0        800      1      9/11/2016   \n",
      "317         368           368            0       1000      2      9/11/2016   \n",
      "318         371           371            0       1000      2      9/11/2016   \n",
      "319         372           372            0        800      1      9/11/2016   \n",
      "320         373           373            0       1000      1      9/11/2016   \n",
      "321         374           374            0       1000      2      9/11/2016   \n",
      "322         375           375            0        800      1      9/11/2016   \n",
      "323         376           376            0       1000      1      9/11/2016   \n",
      "324         377           377            0       1000      2      9/11/2016   \n",
      "325         378           378            0       1000      2      9/11/2016   \n",
      "326         379           379            0       1000      2      9/11/2016   \n",
      "327         380           380            0       1000      2      9/11/2016   \n",
      "328         381           381            0        800      1      9/11/2016   \n",
      "329         382           382            0       1000      1      9/11/2016   \n",
      "330         383           383            0       1000      2      9/11/2016   \n",
      "331         384           384            0       1000      2      9/11/2016   \n",
      "332         385           385            0       1000      2      9/11/2016   \n",
      "333         386           386            0        800      1      9/11/2016   \n",
      "334         387           387            0       1000      2      9/11/2016   \n",
      "335         388           388            0       1000      1      9/11/2016   \n",
      "336         389           389            0       1000      1      9/11/2016   \n",
      "337         390           390            0       1000      1      9/11/2016   \n",
      "338         391           391            0        800      1      9/11/2016   \n",
      "339         392           392            0       1000      2      9/11/2016   \n",
      "340         393           393            0       1000      2      9/11/2016   \n",
      "341         394           394            0        800      1      9/11/2016   \n",
      "342         395           395            0       1000      2      9/11/2016   \n",
      "343         397           397            0        800      1      9/12/2016   \n",
      "344         398           398            0       1000      2      9/12/2016   \n",
      "345         399           399            0       1000      2      9/12/2016   \n",
      "\n",
      "       due_date  age  education  Gender  \n",
      "0     10/7/2016   45          0       0  \n",
      "1     10/7/2016   33          2       1  \n",
      "2     9/22/2016   27          1       0  \n",
      "3     10/8/2016   28          1       1  \n",
      "4     10/8/2016   29          1       0  \n",
      "5     10/8/2016   36          1       0  \n",
      "6     10/8/2016   28          1       0  \n",
      "7     9/24/2016   26          1       0  \n",
      "8     9/16/2016   29          1       0  \n",
      "9     10/9/2016   39          0       0  \n",
      "10    10/9/2016   26          1       0  \n",
      "11    9/16/2016   26          1       1  \n",
      "12    9/16/2016   27          0       0  \n",
      "13    9/24/2016   26          1       0  \n",
      "14    10/9/2016   40          0       0  \n",
      "15    9/24/2016   32          0       0  \n",
      "16    10/9/2016   32          0       0  \n",
      "17    10/9/2016   26          1       0  \n",
      "18    10/9/2016   26          1       0  \n",
      "19    10/9/2016   25          0       0  \n",
      "20    9/24/2016   26          1       0  \n",
      "21    10/9/2016   29          0       0  \n",
      "22    9/24/2016   39          2       0  \n",
      "23    9/24/2016   34          2       0  \n",
      "24   10/10/2016   31          1       0  \n",
      "25   10/10/2016   33          1       0  \n",
      "26    9/25/2016   33          0       0  \n",
      "27   10/10/2016   37          1       0  \n",
      "28   10/10/2016   27          1       0  \n",
      "29   10/10/2016   37          1       0  \n",
      "..          ...  ...        ...     ...  \n",
      "316   9/25/2016   28          2       0  \n",
      "317  10/10/2016   24          1       0  \n",
      "318  10/10/2016   18          1       0  \n",
      "319   9/25/2016   25          0       0  \n",
      "320   9/25/2016   40          0       0  \n",
      "321  10/10/2016   29          1       0  \n",
      "322   9/25/2016   26          0       1  \n",
      "323   9/25/2016   30          1       0  \n",
      "324  10/10/2016   33          1       0  \n",
      "325  10/10/2016   30          1       0  \n",
      "326  10/10/2016   32          1       0  \n",
      "327  10/10/2016   25          0       0  \n",
      "328   9/25/2016   35          0       0  \n",
      "329   9/25/2016   30          2       0  \n",
      "330  10/10/2016   26          0       0  \n",
      "331  10/10/2016   29          0       0  \n",
      "332   11/9/2016   26          0       0  \n",
      "333   9/25/2016   46          0       0  \n",
      "334  10/10/2016   36          0       0  \n",
      "335   9/25/2016   38          2       0  \n",
      "336  10/25/2016   32          0       0  \n",
      "337   9/25/2016   30          1       0  \n",
      "338   9/25/2016   35          0       0  \n",
      "339  10/10/2016   29          1       1  \n",
      "340   11/9/2016   26          1       0  \n",
      "341   9/25/2016   32          0       0  \n",
      "342  10/10/2016   25          0       0  \n",
      "343   9/26/2016   39          1       0  \n",
      "344  11/10/2016   28          1       0  \n",
      "345  10/11/2016   26          1       0  \n",
      "\n",
      "[344 rows x 10 columns]\n"
     ]
    },
    {
     "name": "stderr",
     "output_type": "stream",
     "text": [
      "/home/jupyterlab/conda/lib/python3.6/site-packages/ipykernel_launcher.py:16: SettingWithCopyWarning: \n",
      "A value is trying to be set on a copy of a slice from a DataFrame\n",
      "\n",
      "See the caveats in the documentation: http://pandas.pydata.org/pandas-docs/stable/indexing.html#indexing-view-versus-copy\n",
      "  app.launch_new_instance()\n",
      "/home/jupyterlab/conda/lib/python3.6/site-packages/ipykernel_launcher.py:20: SettingWithCopyWarning: \n",
      "A value is trying to be set on a copy of a slice from a DataFrame\n",
      "\n",
      "See the caveats in the documentation: http://pandas.pydata.org/pandas-docs/stable/indexing.html#indexing-view-versus-copy\n",
      "/home/jupyterlab/conda/lib/python3.6/site-packages/ipykernel_launcher.py:21: SettingWithCopyWarning: \n",
      "A value is trying to be set on a copy of a slice from a DataFrame\n",
      "\n",
      "See the caveats in the documentation: http://pandas.pydata.org/pandas-docs/stable/indexing.html#indexing-view-versus-copy\n",
      "/home/jupyterlab/conda/lib/python3.6/site-packages/ipykernel_launcher.py:22: SettingWithCopyWarning: \n",
      "A value is trying to be set on a copy of a slice from a DataFrame\n",
      "\n",
      "See the caveats in the documentation: http://pandas.pydata.org/pandas-docs/stable/indexing.html#indexing-view-versus-copy\n"
     ]
    }
   ],
   "source": [
    "# creating a dict file  \n",
    "status = {'PAIDOFF': 1,'COLLECTION': 0} \n",
    "  \n",
    "    \n",
    "# condition matches. \n",
    "cell_df.loan_status[cell_df.loan_status == 'PAIDOFF'] = 1\n",
    "cell_df.loan_status[cell_df.loan_status == 'COLLECTION'] = 0\n",
    "\n",
    "# condition matches. \n",
    "cell_df.Gender[cell_df.Gender == 'male'] = 0\n",
    "cell_df.Gender[cell_df.Gender == 'female'] = 1\n",
    "\n",
    "# condition matches. \n",
    "cell_df.education[cell_df.education == 'High School or Below'] = 0\n",
    "cell_df.education[cell_df.education == 'college'] = 1\n",
    "cell_df.education[cell_df.education == 'Bechalor'] = 2\n",
    "\n",
    "\n",
    "# condition matches. \n",
    "cell_df.terms[cell_df.terms == 7] = 0\n",
    "cell_df.terms[cell_df.terms == 15] = 1\n",
    "cell_df.terms[cell_df.terms == 30] = 2\n",
    "\n",
    "\n",
    "\n",
    "cell_df = cell_df[pd.to_numeric(cell_df['loan_status'], errors='coerce').notnull()]\n",
    "cell_df['loan_status'] = cell_df['loan_status'].astype('int')\n",
    "cell_df.dtypes\n",
    "\n",
    "cell_df = cell_df[pd.to_numeric(cell_df['Gender'], errors='coerce').notnull()]\n",
    "cell_df['Gender'] = cell_df['Gender'].astype('int')\n",
    "cell_df.dtypes\n",
    "\n",
    "cell_df = cell_df[pd.to_numeric(cell_df['education'], errors='coerce').notnull()]\n",
    "cell_df['education'] = cell_df['education'].astype('int')\n",
    "cell_df.dtypes\n",
    "\n",
    "\n",
    "#cell_df.dtypes\n",
    "print(cell_df) \n",
    "\n",
    "\n",
    "\n",
    "#cell_df['loan_status'] = cell_df['loan_status'].astype('int')\n",
    "#y = np.asarray(cell_df['loan_status'])\n",
    "#y [0:5]"
   ]
  },
  {
   "cell_type": "code",
   "execution_count": 242,
   "metadata": {},
   "outputs": [],
   "source": [
    "cell_df.columns\n",
    "cell_df= cell_df.drop('effective_date', 1)\n",
    "cell_df = test.drop('due_date',1)\n",
    "\n"
   ]
  },
  {
   "cell_type": "code",
   "execution_count": null,
   "metadata": {},
   "outputs": [],
   "source": []
  },
  {
   "cell_type": "code",
   "execution_count": 243,
   "metadata": {},
   "outputs": [
    {
     "data": {
      "text/plain": [
       "array([[1000.,    2.,   45.,    0.,    0.],\n",
       "       [1000.,    2.,   33.,    2.,    1.],\n",
       "       [1000.,    1.,   27.,    1.,    0.],\n",
       "       [1000.,    2.,   28.,    1.,    1.],\n",
       "       [1000.,    2.,   29.,    1.,    0.]])"
      ]
     },
     "execution_count": 243,
     "metadata": {},
     "output_type": "execute_result"
    }
   ],
   "source": [
    "X = cell_df[['Principal', 'terms','age', 'education', 'Gender']].values.astype(float)\n",
    "X[0:5]"
   ]
  },
  {
   "cell_type": "code",
   "execution_count": 244,
   "metadata": {},
   "outputs": [],
   "source": [
    "#X = cell_df[cell_df['loan_status'] == 0][0:20].plot(kind='scatter', x='education', y='age', color='DarkBlue', label='malignant');\n",
    "#cell_df[cell_df['loan_status'] == 1][0:20].plot(kind='scatter', x='education', y='age', color='DarkGreen', label='benign');\n",
    "#plt.show()"
   ]
  },
  {
   "cell_type": "code",
   "execution_count": 245,
   "metadata": {},
   "outputs": [
    {
     "data": {
      "text/plain": [
       "array([[ 0.51345952,  0.87869823,  2.37885075, -1.0048238 , -0.42199786],\n",
       "       [ 0.51345952,  0.87869823,  0.35995768,  1.91213305,  2.36968028],\n",
       "       [ 0.51345952, -0.85849827, -0.64948885,  0.45365463, -0.42199786],\n",
       "       ...,\n",
       "       [-1.31690394, -0.85849827,  1.36940421,  0.45365463, -0.42199786],\n",
       "       [ 0.51345952,  0.87869823, -0.48124777,  0.45365463, -0.42199786],\n",
       "       [ 0.51345952,  0.87869823, -0.81772994,  0.45365463, -0.42199786]])"
      ]
     },
     "execution_count": 245,
     "metadata": {},
     "output_type": "execute_result"
    }
   ],
   "source": [
    "X = preprocessing.StandardScaler().fit(X).transform(X.astype(float))\n",
    "X[0:1000]"
   ]
  },
  {
   "cell_type": "code",
   "execution_count": null,
   "metadata": {},
   "outputs": [],
   "source": [
    "\n",
    "\n",
    "\n"
   ]
  },
  {
   "cell_type": "code",
   "execution_count": 246,
   "metadata": {},
   "outputs": [
    {
     "name": "stdout",
     "output_type": "stream",
     "text": [
      "Train set: (275, 5) (275,)\n",
      "Test set: (69, 5) (69,)\n"
     ]
    }
   ],
   "source": [
    "from sklearn.model_selection import train_test_split\n",
    "X_train, X_test, y_train, y_test = train_test_split( X, y, test_size=0.2, random_state=4)\n",
    "print ('Train set:', X_train.shape,  y_train.shape)\n",
    "print ('Test set:', X_test.shape,  y_test.shape)"
   ]
  },
  {
   "cell_type": "code",
   "execution_count": 247,
   "metadata": {},
   "outputs": [],
   "source": [
    "from sklearn.neighbors import KNeighborsClassifier"
   ]
  },
  {
   "cell_type": "code",
   "execution_count": 248,
   "metadata": {},
   "outputs": [
    {
     "data": {
      "text/plain": [
       "KNeighborsClassifier(algorithm='auto', leaf_size=30, metric='minkowski',\n",
       "           metric_params=None, n_jobs=None, n_neighbors=4, p=2,\n",
       "           weights='uniform')"
      ]
     },
     "execution_count": 248,
     "metadata": {},
     "output_type": "execute_result"
    }
   ],
   "source": [
    "k = 4\n",
    "#Train Model and Predict  \n",
    "neigh = KNeighborsClassifier(n_neighbors = k).fit(X_train,y_train)\n",
    "neigh"
   ]
  },
  {
   "cell_type": "code",
   "execution_count": 249,
   "metadata": {},
   "outputs": [
    {
     "data": {
      "text/plain": [
       "array([1, 1, 1, 1, 0])"
      ]
     },
     "execution_count": 249,
     "metadata": {},
     "output_type": "execute_result"
    }
   ],
   "source": [
    "yhat = neigh.predict(X_test)\n",
    "yhat[0:5]"
   ]
  },
  {
   "cell_type": "code",
   "execution_count": 250,
   "metadata": {},
   "outputs": [
    {
     "name": "stdout",
     "output_type": "stream",
     "text": [
      "Train set Accuracy:  0.7490909090909091\n",
      "Test set Accuracy:  0.6376811594202898\n"
     ]
    }
   ],
   "source": [
    "from sklearn import metrics\n",
    "print(\"Train set Accuracy: \", metrics.accuracy_score(y_train, neigh.predict(X_train)))\n",
    "print(\"Test set Accuracy: \", metrics.accuracy_score(y_test, yhat))"
   ]
  },
  {
   "cell_type": "code",
   "execution_count": null,
   "metadata": {},
   "outputs": [],
   "source": []
  }
 ],
 "metadata": {
  "kernelspec": {
   "display_name": "Python 3",
   "language": "python",
   "name": "python3"
  },
  "language_info": {
   "codemirror_mode": {
    "name": "ipython",
    "version": 3
   },
   "file_extension": ".py",
   "mimetype": "text/x-python",
   "name": "python",
   "nbconvert_exporter": "python",
   "pygments_lexer": "ipython3",
   "version": "3.6.6"
  }
 },
 "nbformat": 4,
 "nbformat_minor": 2
}
